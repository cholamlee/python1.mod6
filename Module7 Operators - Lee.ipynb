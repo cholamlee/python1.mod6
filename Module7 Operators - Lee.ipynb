{
 "cells": [
  {
   "cell_type": "markdown",
   "metadata": {},
   "source": [
    "### Exercise 1\n",
    "Ask a user to enter a number. If the number is positive, print <b>Positive number</b>. Otherwise, do not print any message. Finally, print 'goodbye' message at the end."
   ]
  },
  {
   "cell_type": "code",
   "execution_count": 8,
   "metadata": {},
   "outputs": [
    {
     "name": "stdout",
     "output_type": "stream",
     "text": [
      "Enter a number -0.00001\n",
      "goodbye\n"
     ]
    }
   ],
   "source": [
    "numIn=input(\"Enter a number \")\n",
    "if float(numIn) >= 0:\n",
    "    print(\"Positive number\")\n",
    "print(\"goodbye\")"
   ]
  },
  {
   "cell_type": "code",
   "execution_count": null,
   "metadata": {},
   "outputs": [],
   "source": []
  },
  {
   "cell_type": "markdown",
   "metadata": {},
   "source": [
    "### Exercise 2\n",
    "Ask for a code and store that answer. \n",
    "If the answer is grey then print out if you found secret code.\n",
    "Otherwise print out the code is not the secret code."
   ]
  },
  {
   "cell_type": "code",
   "execution_count": 12,
   "metadata": {},
   "outputs": [
    {
     "name": "stdout",
     "output_type": "stream",
     "text": [
      "Please enter a code grey\n",
      "secret code is found\n"
     ]
    }
   ],
   "source": [
    "codeIn=input(\"Please enter a code \")\n",
    "if codeIn == \"grey\":\n",
    "    print(\"secret code is found\")\n",
    "else:\n",
    "    print(\"code entered is the the secret code\")\n",
    "\n"
   ]
  },
  {
   "cell_type": "code",
   "execution_count": null,
   "metadata": {},
   "outputs": [],
   "source": []
  },
  {
   "cell_type": "markdown",
   "metadata": {},
   "source": [
    "### Exercise 3\n",
    "\n",
    "Ask a user to enter a phrase. If the word contains a number, display the \"Number found\" message. Otherwise, show the \"Number not found\" message. "
   ]
  },
  {
   "cell_type": "code",
   "execution_count": 2,
   "metadata": {},
   "outputs": [
    {
     "name": "stdout",
     "output_type": "stream",
     "text": [
      "Enter a phrase I can eat 2 lunches.\n",
      "I can eat 2 lunches.\n",
      "Number found\n"
     ]
    }
   ],
   "source": [
    "stringIn=input(\"Enter a phrase \")\n",
    "print(stringIn)\n",
    "res=False\n",
    "numbers=\"0123456789\"\n",
    "for i in stringIn:\n",
    "    if i in numbers:\n",
    "        result=True\n",
    "        break\n",
    "if result:\n",
    "    print(\"Number found\")\n",
    "else:\n",
    "    print(\"Number not found\")"
   ]
  },
  {
   "cell_type": "code",
   "execution_count": null,
   "metadata": {},
   "outputs": [],
   "source": []
  },
  {
   "cell_type": "markdown",
   "metadata": {},
   "source": [
    "### Exercise 4\n",
    "\n",
    "Ask a user to enter a number. Then, only if the number is divisible by 2 and 3, show the result of the number divided by two and three in a formated string. The output should look something like this:\n",
    "        \n",
    "    Enter a number: 2\n",
    "    Bye    \n",
    "    \n",
    "    Enter a number: 60\n",
    "    60 / 2 = 30.0\n",
    "    60 / 3 = 20.0\n",
    "    Bye\n",
    "    \n",
    "    Enter a number: 3\n",
    "    Bye\n",
    "    \n",
    "    Enter a number: 10\n",
    "    Bye    "
   ]
  },
  {
   "cell_type": "code",
   "execution_count": 1,
   "metadata": {},
   "outputs": [
    {
     "name": "stdout",
     "output_type": "stream",
     "text": [
      "Enter a number: 18\n",
      "18 / 2 = 9.0\n",
      "18 / 3 = 6.0\n",
      "Bye\n"
     ]
    }
   ],
   "source": [
    "numIn = input(\"Enter a number: \")\n",
    "num1 = int(numIn)\n",
    "remain1 = num1 % 2\n",
    "remain2 = num1 % 3\n",
    "if ((remain1 == 0) and (remain2 ==0)):\n",
    "    print (num1, \"/\", \"2 =\", num1/2)\n",
    "    print (num1 ,\"/\", \"3 =\", num1/3)\n",
    "\n",
    "print (\"Bye\")"
   ]
  },
  {
   "cell_type": "code",
   "execution_count": null,
   "metadata": {},
   "outputs": [],
   "source": [
    "\n"
   ]
  },
  {
   "cell_type": "code",
   "execution_count": null,
   "metadata": {},
   "outputs": [],
   "source": [
    "## Exercise 5\n",
    "Ask a user to enter a number. Determine if the number is zero, positive or negative. \n",
    "Use only if and else statements. \n",
    "    "
   ]
  },
  {
   "cell_type": "code",
   "execution_count": 2,
   "metadata": {},
   "outputs": [
    {
     "name": "stdout",
     "output_type": "stream",
     "text": [
      "Please enter a number -0.00001\n",
      "The number is negative\n"
     ]
    }
   ],
   "source": [
    "numIn=input(\"Please enter a number \")\n",
    "if float(numIn) == 0.00:\n",
    "    print (\"The number is zero\")\n",
    "else:\n",
    "    if float(numIn) > 0.00: \n",
    "        print (\"The number is positive\")\n",
    "    else:    \n",
    "        print (\"The number is negative\")    \n",
    "    \n",
    "    "
   ]
  },
  {
   "cell_type": "code",
   "execution_count": null,
   "metadata": {},
   "outputs": [],
   "source": []
  },
  {
   "cell_type": "code",
   "execution_count": null,
   "metadata": {},
   "outputs": [],
   "source": []
  }
 ],
 "metadata": {
  "kernelspec": {
   "display_name": "Python 3 (ipykernel)",
   "language": "python",
   "name": "python3"
  },
  "language_info": {
   "codemirror_mode": {
    "name": "ipython",
    "version": 3
   },
   "file_extension": ".py",
   "mimetype": "text/x-python",
   "name": "python",
   "nbconvert_exporter": "python",
   "pygments_lexer": "ipython3",
   "version": "3.11.5"
  }
 },
 "nbformat": 4,
 "nbformat_minor": 4
}
